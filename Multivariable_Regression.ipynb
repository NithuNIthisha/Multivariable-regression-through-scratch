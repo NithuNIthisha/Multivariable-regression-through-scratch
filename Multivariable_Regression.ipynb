{
  "nbformat": 4,
  "nbformat_minor": 0,
  "metadata": {
    "colab": {
      "name": "Multivariable Regression.ipynb",
      "provenance": [],
      "authorship_tag": "ABX9TyM5JR7NStMxg5tjatLRYx5P",
      "include_colab_link": true
    },
    "kernelspec": {
      "name": "python3",
      "display_name": "Python 3"
    },
    "language_info": {
      "name": "python"
    }
  },
  "cells": [
    {
      "cell_type": "markdown",
      "metadata": {
        "id": "view-in-github",
        "colab_type": "text"
      },
      "source": [
        "<a href=\"https://colab.research.google.com/github/NithuNIthisha/Multivariable-regression-through-scratch/blob/main/Multivariable_Regression.ipynb\" target=\"_parent\"><img src=\"https://colab.research.google.com/assets/colab-badge.svg\" alt=\"Open In Colab\"/></a>"
      ]
    },
    {
      "cell_type": "code",
      "execution_count": 1,
      "metadata": {
        "id": "k81uqWoMMLt1"
      },
      "outputs": [],
      "source": [
        "import pandas as pd\n",
        "import numpy as np\n",
        "import matplotlib as plt"
      ]
    },
    {
      "cell_type": "code",
      "source": [
        "data = pd.read_csv(\"50_Startups.csv\")\n",
        "data = np.array(data)\n",
        "m,n = data.shape\n",
        "m_train = int(m/100*25)\n",
        "data_train = data[0:m-m_train,:]\n",
        "X_train = data_train[:,:-1]\n",
        "Y_train = data_train[:,-1]"
      ],
      "metadata": {
        "id": "hb1Z1fJdMV8q"
      },
      "execution_count": 3,
      "outputs": []
    },
    {
      "cell_type": "code",
      "source": [
        "from sklearn.compose import ColumnTransformer\n",
        "from sklearn.preprocessing import OneHotEncoder\n",
        "ct = ColumnTransformer(transformers=[('encoder',OneHotEncoder(sparse=False),[-1])],remainder='passthrough')\n",
        "X_train = np.array(ct.fit_transform(X_train))"
      ],
      "metadata": {
        "id": "wmcZ_y95MYUy"
      },
      "execution_count": 4,
      "outputs": []
    },
    {
      "cell_type": "code",
      "source": [
        "r,c = X_train.shape\n",
        "def normalize(X):\n",
        "  for i in range(c):\n",
        "    X[:,i] = X[:,i]/X[:,i].max()\n",
        "  return X"
      ],
      "metadata": {
        "id": "3-Df1ATmMaVa"
      },
      "execution_count": 5,
      "outputs": []
    },
    {
      "cell_type": "code",
      "source": [
        "X_train = normalize(X_train)"
      ],
      "metadata": {
        "id": "ttW2_3aSMcTC"
      },
      "execution_count": 6,
      "outputs": []
    },
    {
      "cell_type": "code",
      "source": [
        "def gradient_descent(X,Y,iter,alpha):\n",
        "  weights = np.zeros((c,))\n",
        "  bias = np.ones((1,))\n",
        "  m = Y.size\n",
        "  lambd = 1\n",
        "  for i in range(iter):\n",
        "    h = np.dot(X_train,weights) + bias\n",
        "    cost = (1/(2*m))*(np.sum(Y-h**2))\n",
        "    der_weights = (-1/m)*np.dot(X.T,(Y - h))\n",
        "    der_bias = -1/m*np.sum(Y_train - h)\n",
        "    weights = weights - alpha*der_weights\n",
        "    bias = bias - alpha*der_bias\n",
        "    print(f\"w : {weights} , b : {bias}\")\n",
        "  return weights , bias"
      ],
      "metadata": {
        "id": "4RHUDwI1Md3s"
      },
      "execution_count": 7,
      "outputs": []
    },
    {
      "cell_type": "code",
      "source": [
        "w , b = gradient_descent(X_train,Y_train,1500,0.1)"
      ],
      "metadata": {
        "id": "MRSc9v74Mf0S"
      },
      "execution_count": null,
      "outputs": []
    },
    {
      "cell_type": "code",
      "source": [
        "h = np.dot(X_train,w) + b"
      ],
      "metadata": {
        "id": "9n_LugJ9Mi8q"
      },
      "execution_count": 9,
      "outputs": []
    },
    {
      "cell_type": "code",
      "source": [
        "from sklearn.metrics import r2_score\n",
        "r2_score(Y_train,h)"
      ],
      "metadata": {
        "colab": {
          "base_uri": "https://localhost:8080/"
        },
        "id": "OzBfzMJsMjjq",
        "outputId": "17889806-0ec4-4690-e97b-8d9c779c231f"
      },
      "execution_count": 10,
      "outputs": [
        {
          "output_type": "execute_result",
          "data": {
            "text/plain": [
              "0.9445664821440259"
            ]
          },
          "metadata": {},
          "execution_count": 10
        }
      ]
    }
  ]
}